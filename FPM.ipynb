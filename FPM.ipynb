{
  "nbformat": 4,
  "nbformat_minor": 0,
  "metadata": {
    "colab": {
      "name": "FPM.ipynb",
      "provenance": [],
      "authorship_tag": "ABX9TyPNH+V3EYo5g32jsWmR4Eoz",
      "include_colab_link": true
    },
    "kernelspec": {
      "name": "python3",
      "display_name": "Python 3"
    }
  },
  "cells": [
    {
      "cell_type": "markdown",
      "metadata": {
        "id": "view-in-github",
        "colab_type": "text"
      },
      "source": [
        "<a href=\"https://colab.research.google.com/github/fachra/FourierPotential/blob/main/FPM.ipynb\" target=\"_parent\"><img src=\"https://colab.research.google.com/assets/colab-badge.svg\" alt=\"Open In Colab\"/></a>"
      ]
    },
    {
      "cell_type": "markdown",
      "metadata": {
        "id": "puExVbj-ZLI9"
      },
      "source": [
        "# Fourier representation of the diffusion MRI signal using layer potentials (CuPy/NumPy implementation)\n",
        "\n",
        "## Theory\n"
      ]
    }
  ]
}